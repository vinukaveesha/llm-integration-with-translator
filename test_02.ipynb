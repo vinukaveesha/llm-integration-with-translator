{
 "cells": [
  {
   "cell_type": "code",
   "execution_count": 56,
   "metadata": {},
   "outputs": [],
   "source": [
    "import os\n",
    "from transformers import AutoModel, AutoTokenizer\n",
    "import requests\n",
    "from google.cloud import translate_v3"
   ]
  },
  {
   "cell_type": "code",
   "execution_count": 57,
   "metadata": {},
   "outputs": [],
   "source": [
    "os.environ['HF_TOKEN'] = os.environ.get(\"HF_TOKEN\")\n",
    "PROJECT_ID = os.environ.get(\"GOOGLE_CLOUD_PROJECT\")\n",
    "os.environ['GOOGLE_APPLICATION_CREDENTIALS'] = os.environ.get(\"GOOGLE_APPLICATION_CREDENTIALS\")"
   ]
  },
  {
   "cell_type": "code",
   "execution_count": 58,
   "metadata": {},
   "outputs": [],
   "source": [
    "def translate_text(text: str, source_language_code: str, target_language_code: str) -> str:\n",
    "    client = translate_v3.TranslationServiceClient()\n",
    "    parent = f\"projects/{PROJECT_ID}/locations/global\"\n",
    "\n",
    "    response = client.translate_text(\n",
    "        contents=[text],\n",
    "        target_language_code=target_language_code,\n",
    "        parent=parent,\n",
    "        mime_type=\"text/plain\",\n",
    "        source_language_code=source_language_code,\n",
    "    )\n",
    "    \n",
    "    translated_text = response.translations[0].translated_text\n",
    "\n",
    "    return translated_text"
   ]
  },
  {
   "cell_type": "code",
   "execution_count": 59,
   "metadata": {},
   "outputs": [],
   "source": [
    "def query_model(text: str):\n",
    "    headers = {\n",
    "        'Authorization': f'Bearer {os.getenv(\"HF_TOKEN\")}'\n",
    "    }\n",
    "    API_URL = \"https://api-inference.huggingface.co/models/mistralai/Mistral-7B-Instruct-v0.2\"\n",
    "    payload = {\n",
    "        \"inputs\": text,\n",
    "        \"parameters\": {\"return_full_text\": False},\n",
    "        \"options\": {\"use_cache\": True}\n",
    "    }\n",
    "    response = requests.post(API_URL, headers=headers, json=payload)\n",
    "    return response.json()"
   ]
  },
  {
   "cell_type": "code",
   "execution_count": 60,
   "metadata": {},
   "outputs": [],
   "source": [
    "def main():\n",
    "    text_to_translate = input(\"Enter your question in Sinhala: \")\n",
    "    \n",
    "    translated_input = translate_text(text=text_to_translate, source_language_code=\"si\", target_language_code=\"en-US\")\n",
    "    result = query_model(translated_input)\n",
    "    \n",
    "    if isinstance(result, list) and result:\n",
    "        model_output = result[0].get('generated_text', 'No text generated')\n",
    "        model_output = model_output.replace('\\n', ' ').strip()\n",
    "    else:\n",
    "        model_output = \"No valid response received from the model\"\n",
    "    \n",
    "    translated_output = translate_text(text=model_output, source_language_code=\"en-US\", target_language_code=\"si\")\n",
    "    print(\"Final Translated Output:\", translated_output)"
   ]
  },
  {
   "cell_type": "code",
   "execution_count": null,
   "metadata": {},
   "outputs": [],
   "source": [
    "if __name__ == \"__main__\":\n",
    "    main()"
   ]
  }
 ],
 "metadata": {
  "kernelspec": {
   "display_name": "Python 3",
   "language": "python",
   "name": "python3"
  },
  "language_info": {
   "codemirror_mode": {
    "name": "ipython",
    "version": 3
   },
   "file_extension": ".py",
   "mimetype": "text/x-python",
   "name": "python",
   "nbconvert_exporter": "python",
   "pygments_lexer": "ipython3",
   "version": "3.12.7"
  }
 },
 "nbformat": 4,
 "nbformat_minor": 2
}
