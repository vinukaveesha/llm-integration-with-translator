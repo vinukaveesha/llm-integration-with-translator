{
 "cells": [
  {
   "cell_type": "code",
   "execution_count": 56,
   "metadata": {},
   "outputs": [],
   "source": [
    "import os\n",
    "from transformers import AutoModel, AutoTokenizer\n",
    "import requests\n",
    "from google.cloud import translate_v3"
   ]
  },
  {
   "cell_type": "code",
   "execution_count": 57,
   "metadata": {},
   "outputs": [],
   "source": [
    "os.environ['HF_TOKEN'] = os.environ.get(\"HF_TOKEN\")\n",
    "PROJECT_ID = os.environ.get(\"GOOGLE_CLOUD_PROJECT\")\n",
    "os.environ['GOOGLE_APPLICATION_CREDENTIALS'] = os.environ.get(\"GOOGLE_APPLICATION_CREDENTIALS\")"
   ]
  },
  {
   "cell_type": "code",
   "execution_count": 58,
   "metadata": {},
   "outputs": [],
   "source": [
    "def translate_text(text: str, source_language_code: str, target_language_code: str) -> str:\n",
    "    client = translate_v3.TranslationServiceClient()\n",
    "    parent = f\"projects/{PROJECT_ID}/locations/global\"\n",
    "\n",
    "    response = client.translate_text(\n",
    "        contents=[text],\n",
    "        target_language_code=target_language_code,\n",
    "        parent=parent,\n",
    "        mime_type=\"text/plain\",\n",
    "        source_language_code=source_language_code,\n",
    "    )\n",
    "    \n",
    "    translated_text = response.translations[0].translated_text\n",
    "\n",
    "    return translated_text"
   ]
  },
  {
   "cell_type": "code",
   "execution_count": 59,
   "metadata": {},
   "outputs": [],
   "source": [
    "def query_model(text: str):\n",
    "    headers = {\n",
    "        'Authorization': f'Bearer {os.getenv(\"HF_TOKEN\")}'\n",
    "    }\n",
    "    API_URL = \"https://api-inference.huggingface.co/models/mistralai/Mistral-7B-Instruct-v0.2\"\n",
    "    payload = {\n",
    "        \"inputs\": text,\n",
    "        \"parameters\": {\"return_full_text\": False},\n",
    "        \"options\": {\"use_cache\": True}\n",
    "    }\n",
    "    response = requests.post(API_URL, headers=headers, json=payload)\n",
    "    return response.json()"
   ]
  },
  {
   "cell_type": "code",
   "execution_count": 60,
   "metadata": {},
   "outputs": [],
   "source": [
    "def main():\n",
    "    text_to_translate = input(\"Enter your question in Sinhala: \")\n",
    "    \n",
    "    translated_input = translate_text(text=text_to_translate, source_language_code=\"si\", target_language_code=\"en-US\")\n",
    "    result = query_model(translated_input)\n",
    "    \n",
    "    if isinstance(result, list) and result:\n",
    "        model_output = result[0].get('generated_text', 'No text generated')\n",
    "        model_output = model_output.replace('\\n', ' ').strip()\n",
    "    else:\n",
    "        model_output = \"No valid response received from the model\"\n",
    "    \n",
    "    translated_output = translate_text(text=model_output, source_language_code=\"en-US\", target_language_code=\"si\")\n",
    "    print(\"Final Translated Output:\", translated_output)"
   ]
  },
  {
   "cell_type": "code",
   "execution_count": 61,
   "metadata": {},
   "outputs": [
    {
     "name": "stdout",
     "output_type": "stream",
     "text": [
      "Final Translated Output: අන්තර්ජාලය යනු ප්‍රමිතිගත සන්නිවේදන ප්‍රොටෝකෝල භාවිතයෙන් එකිනෙකා සමඟ සන්නිවේදනය කරන අන්තර් සම්බන්ධිත පරිගණකවල ගෝලීය ජාලයකි. එය පරිශීලකයින්ට තොරතුරු රාශියකට ප්‍රවේශ වීමට, අන් අය සමඟ සන්නිවේදනය කිරීමට සහ ලෝකයේ ඕනෑම තැනක සිට යෙදුම් ක්‍රියාත්මක කිරීමට ඉඩ සලසන අති විශාල, විමධ්‍යගත පද්ධතියකි. අන්තර්ජාලය සෑදී ඇත්තේ අන්තර්ජාල ප්‍රොටෝකෝලය (IP) භාවිතා කරන මිලියන ගණනක් අන්තර් සම්බන්ධිත පරිගණක, සේවාදායක සහ වෙනත් උපාංග වලින් වන අතර ඒවා එකිනෙකා සමඟ සන්නිවේදනය කරයි. IP යනු අන්තර්ජාලය හරහා දත්ත සම්ප්‍රේෂණය වන ආකාරය පාලනය කරන නීති මාලාවකි. එය උපාංගවලට කුඩා පැකට් වලින් දත්ත යැවීමට සහ ලබා ගැනීමට ඉඩ සලසයි, පසුව ඒවා ඔවුන්ගේ ගමනාන්තයේදී නැවත එකලස් කරනු ලැබේ. ලෝකයේ ඕනෑම තැනක සිට අන්තර්ජාලයට ප්‍රවේශ විය හැකි අතර, එය අප ජීවත් වන, වැඩ කරන සහ සන්නිවේදනය කරන ආකාරය විප්ලවීය ලෙස වෙනස් කර ඇත. එය නව කර්මාන්ත නිර්මාණය කිරීමට, සාම්ප්‍රදායික කර්මාන්ත පරිවර්තනය කිරීමට සහ නවෝත්පාදනය සහ නිර්මාණශීලිත්වය සඳහා නව අවස්ථා ලබා දී ඇත. අන්තර්ජාලයේ වඩාත් පොදු භාවිතයන් කිහිපයක් අතරට: * විද්‍යුත් තැපෑල: විද්‍යුත් පණිවිඩ යැවීම සහ ලැබීම * වෙබ් බ්‍රවුස් කිරීම: වෙබ් අඩවි වල තොරතුරු වෙත ප්‍රවේශ වීම * සමාජ මාධ්‍ය: සමාජ ජාල වෙබ් අඩවිවල මිතුරන් සහ පවුලේ අය සමඟ සම්බන්ධ වීම * මාධ්‍ය ප්‍රවාහය: චිත්‍රපට, රූපවාහිනී වැඩසටහන් නැරඹීම සහ අන්තර්ජාලය හරහා සංගීතයට සවන් දීම * මාර්ගගත සාප්පු සවාරි: ඔබේම නිවසේ සුවපහසුවෙන් භාණ්ඩ හා සේවා මිලදී ගැනීම * මාර්ගගත අධ්‍යාපනය: පිළිගත් ආයතනවලින් පාඨමාලා හැදෑරීම සහ උපාධි ලබා ගැනීම * විදුලි සංදේශනය: නිවසේ සිට හෝ දුරස්ථව වැඩ කිරීම * මාර්ගගත ක්‍රීඩා: ලොව පුරා සිටින අනෙකුත් පුද්ගලයින් සමඟ වීඩියෝ ක්‍රීඩා කිරීම අන්තර්ජාලය නිරන්තරයෙන් විකාශනය වන තාක්‍ෂණයක් වන අතර නව යෙදුම් සහ භාවිතයන් සෑම විටම සංවර්ධනය වෙමින් පවතී. එය නූතන ජීවිතයේ අත්‍යවශ්‍ය අංගයක් වන අතර එය මෙහි රැඳී සිටීමට නියමිතයි.\n"
     ]
    }
   ],
   "source": [
    "if __name__ == \"__main__\":\n",
    "    main()"
   ]
  },
  {
   "cell_type": "code",
   "execution_count": null,
   "metadata": {},
   "outputs": [],
   "source": []
  }
 ],
 "metadata": {
  "kernelspec": {
   "display_name": "Python 3",
   "language": "python",
   "name": "python3"
  },
  "language_info": {
   "codemirror_mode": {
    "name": "ipython",
    "version": 3
   },
   "file_extension": ".py",
   "mimetype": "text/x-python",
   "name": "python",
   "nbconvert_exporter": "python",
   "pygments_lexer": "ipython3",
   "version": "3.12.7"
  }
 },
 "nbformat": 4,
 "nbformat_minor": 2
}
